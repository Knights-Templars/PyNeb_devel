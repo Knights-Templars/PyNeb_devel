{
 "cells": [
  {
   "cell_type": "markdown",
   "metadata": {},
   "source": [
    "GETTING STARTED\n",
    "To get started, move into directory where PyNeb resides and enter python"
   ]
  },
  {
   "cell_type": "code",
   "execution_count": 1,
   "metadata": {
    "collapsed": false,
    "jupyter": {
     "outputs_hidden": false
    }
   },
   "outputs": [],
   "source": [
    "%matplotlib inline\n",
    "# import code and modules\n",
    "import pyneb as pn\n",
    "import numpy as np\n",
    "import matplotlib.pyplot as plt"
   ]
  },
  {
   "cell_type": "code",
   "execution_count": 2,
   "metadata": {
    "collapsed": false,
    "jupyter": {
     "outputs_hidden": false
    }
   },
   "outputs": [],
   "source": [
    "#######################################################################\n",
    "# DEFINING ATOMS\n",
    "\n",
    "# define an OII atom\n",
    "O2 = pn.Atom(\"O\", 2)\n",
    "\n",
    "# alternate syntax to define an atom (spec is a string)\n",
    "N2 = pn.Atom(\"N\", \"2\")"
   ]
  },
  {
   "cell_type": "code",
   "execution_count": 4,
   "metadata": {
    "collapsed": false,
    "jupyter": {
     "outputs_hidden": false
    }
   },
   "outputs": [
    {
     "name": "stdout",
     "output_type": "stream",
     "text": [
      "O\n",
      "2\n",
      "O2\n",
      "oxygen\n"
     ]
    }
   ],
   "source": [
    "# check atom definition\n",
    "print(O2.elem)\n",
    "print(O2.spec)\n",
    "print(O2.atom)\n",
    "print(O2.name)"
   ]
  },
  {
   "cell_type": "code",
   "execution_count": 6,
   "metadata": {
    "collapsed": false,
    "jupyter": {
     "outputs_hidden": false
    }
   },
   "outputs": [
    {
     "name": "stdout",
     "output_type": "stream",
     "text": [
      "p3\n"
     ]
    }
   ],
   "source": [
    "# explore the atom: builtin data\n",
    "print(O2.gs) # ground-state configuration"
   ]
  },
  {
   "cell_type": "code",
   "execution_count": 7,
   "metadata": {
    "collapsed": false,
    "jupyter": {
     "outputs_hidden": false
    }
   },
   "outputs": [
    {
     "name": "stdout",
     "output_type": "stream",
     "text": [
      "[4. 6. 4. 4. 2. 6. 4. 2.]\n"
     ]
    }
   ],
   "source": [
    "# array of stat weights\n",
    "print(O2.getStatWeight())"
   ]
  },
  {
   "cell_type": "code",
   "execution_count": 8,
   "metadata": {
    "collapsed": false,
    "jupyter": {
     "outputs_hidden": false
    }
   },
   "outputs": [
    {
     "name": "stdout",
     "output_type": "stream",
     "text": [
      "6.0\n"
     ]
    }
   ],
   "source": [
    "# stat weight of a given level\n",
    "lev_i = 2\n",
    "print(O2.getStatWeight(lev_i))"
   ]
  },
  {
   "cell_type": "code",
   "execution_count": 7,
   "metadata": {
    "collapsed": false,
    "jupyter": {
     "outputs_hidden": false
    }
   },
   "outputs": [
    {
     "name": "stdout",
     "output_type": "stream",
     "text": [
      "O2: Energy levels : NIST 2014\n",
      "O2: A-values from level 6 : Wiese, Fuhr & Deters, 1996, JPCRD, Monograph 7, 369\n",
      "O2: A-values from levels up to 5 : Zeippen 1982, MNRAS, 198, 111\n",
      "O2: CS up to level 5 : Pradhan et al 2006, MNRAS 366, L6\n",
      "O2: CS for levels from 6, interpolated to adapt to Pal07 Tem grid : Tayal 2007, ApJS, 171, 331\n"
     ]
    }
   ],
   "source": [
    "# explore the atom: adopted atomic data\n",
    "pn.atomicData.getPredefinedDataFileDict() # we suggest using the tab for this command...\n",
    "pn.atomicData.getDirForFile('o_ii_atom_WFD96.fits') # wanna know where the file lies?\n",
    "O2.printSources() # print bibliographic references of data used to build O2"
   ]
  },
  {
   "cell_type": "code",
   "execution_count": 9,
   "metadata": {
    "collapsed": false,
    "jupyter": {
     "outputs_hidden": false
    }
   },
   "outputs": [
    {
     "name": "stdout",
     "output_type": "stream",
     "text": [
      "5\n",
      "0.0002681055\n",
      "3.82e-05\n"
     ]
    }
   ],
   "source": [
    "print(O2.NLevels) # number of levels in the selected data\n",
    "print(O2.getEnergy(2)) # energy of first excited level (ground = 1) in Angstrom^-1\n",
    "print(O2.getA(2,1)) # transition probability of 2->1"
   ]
  },
  {
   "cell_type": "code",
   "execution_count": 10,
   "metadata": {
    "collapsed": false,
    "jupyter": {
     "outputs_hidden": false
    }
   },
   "outputs": [
    {
     "data": {
      "image/png": "[encoded data removed]",
      "text/plain": [
       "<Figure size 432x288 with 1 Axes>"
      ]
     },
     "metadata": {
      "needs_background": "light"
     },
     "output_type": "display_data"
    }
   ],
   "source": [
    "N2.plotGrotrian()"
   ]
  },
  {
   "cell_type": "code",
   "execution_count": 12,
   "metadata": {
    "collapsed": false,
    "jupyter": {
     "outputs_hidden": false
    }
   },
   "outputs": [
    {
     "name": "stdout",
     "output_type": "stream",
     "text": [
      "[9.74468368e-01 2.00608882e-02 5.46963327e-03 6.87357279e-07\n",
      " 4.22917029e-07]\n"
     ]
    }
   ],
   "source": [
    "# set temperature and density\n",
    "tem = 15000.\n",
    "den = 1000.\n",
    "print(O2.getPopulations(tem, den)) # compute populations"
   ]
  },
  {
   "cell_type": "code",
   "execution_count": 13,
   "metadata": {
    "collapsed": false,
    "jupyter": {
     "outputs_hidden": false
    }
   },
   "outputs": [
    {
     "name": "stdout",
     "output_type": "stream",
     "text": [
      "1380.6604606545584\n"
     ]
    }
   ],
   "source": [
    "print(O2.getCritDensity(tem, level=2)) # critical density of level 2 at tem"
   ]
  },
  {
   "cell_type": "code",
   "execution_count": 14,
   "metadata": {
    "collapsed": false,
    "jupyter": {
     "outputs_hidden": false
    }
   },
   "outputs": [
    {
     "name": "stdout",
     "output_type": "stream",
     "text": [
      "0.8388914238626578\n"
     ]
    }
   ],
   "source": [
    "print(O2.getOmega(tem, 2, 1)) # effective collision strength of transition 2->1 at T=10000K"
   ]
  },
  {
   "cell_type": "code",
   "execution_count": 15,
   "metadata": {
    "collapsed": false,
    "jupyter": {
     "outputs_hidden": false
    }
   },
   "outputs": [
    {
     "name": "stdout",
     "output_type": "stream",
     "text": [
      "[0.796 0.797 0.798 0.801 0.808 0.817 0.823 0.83  0.832 0.832 0.831 0.833\n",
      " 0.834 0.839 0.844 0.856 0.881 0.905 0.919]\n"
     ]
    }
   ],
   "source": [
    "print(O2.getOmegaArray(2, 1)) # array of effective collision strengths for 2->1 as a function of T"
   ]
  },
  {
   "cell_type": "code",
   "execution_count": 16,
   "metadata": {
    "collapsed": false,
    "jupyter": {
     "outputs_hidden": false
    }
   },
   "outputs": [
    {
     "name": "stdout",
     "output_type": "stream",
     "text": [
      "[2.   2.18 2.3  2.48 2.7  2.88 3.   3.18 3.3  3.48 3.7  3.88 4.   4.18\n",
      " 4.3  4.48 4.7  4.88 5.  ]\n"
     ]
    }
   ],
   "source": [
    "print(O2.getTemArray()) # print array of temperatures of tabulated Omegas"
   ]
  },
  {
   "cell_type": "code",
   "execution_count": 17,
   "metadata": {
    "collapsed": false,
    "jupyter": {
     "outputs_hidden": false
    }
   },
   "outputs": [
    {
     "name": "stdout",
     "output_type": "stream",
     "text": [
      "[[0.00000000e+00 1.12907801e-09 7.48149900e-10 9.43885980e-11\n",
      "  4.86376318e-11]\n",
      " [9.85090222e-09 0.00000000e+00 1.38701270e-08 2.82031409e-09\n",
      "  1.12657440e-09]\n",
      " [9.80993005e-09 2.08451808e-08 0.00000000e+00 2.35004046e-09\n",
      "  1.64105040e-09]\n",
      " [4.57814715e-09 1.56789014e-08 8.69297165e-09 0.00000000e+00\n",
      "  5.17412780e-09]\n",
      " [4.71906029e-09 1.25282648e-08 1.21430487e-08 1.03502311e-08\n",
      "  0.00000000e+00]]\n"
     ]
    }
   ],
   "source": [
    "print(O2.getCollRates(tem)) # print collisional Rates at T=tem"
   ]
  },
  {
   "cell_type": "code",
   "execution_count": 18,
   "metadata": {
    "collapsed": false,
    "jupyter": {
     "outputs_hidden": false
    }
   },
   "outputs": [
    {
     "data": {
      "text/plain": [
       "['* o_iii_atom_FFT04-SZ00.dat',\n",
       " '* o_iii_coll_SSB14.dat',\n",
       " '* o_iii_rec_P91.func',\n",
       " 'o_iii_atom.chianti',\n",
       " 'o_iii_atom_FFT04.dat',\n",
       " 'o_iii_atom_GMZ97-WFD96.dat',\n",
       " 'o_iii_atom_SZ00-WFD96.dat',\n",
       " 'o_iii_atom_TFF01.dat',\n",
       " 'o_iii_atom_TZ17.dat',\n",
       " 'o_iii_coll.chianti',\n",
       " 'o_iii_coll_AK99.dat',\n",
       " 'o_iii_coll_LB94.dat',\n",
       " 'o_iii_coll_MBZ20.dat',\n",
       " 'o_iii_coll_Pal12-AK99.dat',\n",
       " 'o_iii_coll_TZ17.dat']"
      ]
     },
     "execution_count": 18,
     "metadata": {},
     "output_type": "execute_result"
    }
   ],
   "source": [
    "pn.atomicData.getAllAvailableFiles('O3')"
   ]
  },
  {
   "cell_type": "code",
   "execution_count": 20,
   "metadata": {
    "collapsed": false,
    "jupyter": {
     "outputs_hidden": false
    }
   },
   "outputs": [
    {
     "name": "stdout",
     "output_type": "stream",
     "text": [
      "warng _ManageAtomicData: trc data not available for O3\n"
     ]
    },
    {
     "data": {
      "image/png": "[encoded data removed]",
      "text/plain": [
       "<Figure size 1008x720 with 10 Axes>"
      ]
     },
     "metadata": {
      "needs_background": "light"
     },
     "output_type": "display_data"
    }
   ],
   "source": [
    "# This bit calls the script DataPlot.py to plot atomic data. \n",
    "dataplot = pn.DataPlot('O', 3, NLevels=5)\n",
    "dataplot.plotAllA(figsize=(14, 10)) # transition probabilities plot "
   ]
  },
  {
   "cell_type": "code",
   "execution_count": 22,
   "metadata": {
    "collapsed": false,
    "jupyter": {
     "outputs_hidden": false
    }
   },
   "outputs": [
    {
     "name": "stderr",
     "output_type": "stream",
     "text": [
      "/Users/christophemorisset/Google Drive/Pro/PyNeb_devel/pyneb/plot/plotAtomicData.py:473: UserWarning: Matplotlib is currently using module://ipykernel.pylab.backend_inline, which is a non-GUI backend, so cannot show the figure.\n",
      "  fig.show()\n"
     ]
    },
    {
     "data": {
      "image/png": "[encoded data removed]",
      "text/plain": [
       "<Figure size 1296x864 with 16 Axes>"
      ]
     },
     "metadata": {
      "needs_background": "light"
     },
     "output_type": "display_data"
    }
   ],
   "source": [
    "dataplot.plotOmega() # collision strength plot    "
   ]
  },
  {
   "cell_type": "code",
   "execution_count": 23,
   "metadata": {
    "collapsed": false,
    "jupyter": {
     "outputs_hidden": false
    }
   },
   "outputs": [
    {
     "data": {
      "text/plain": [
       "['/Users/christophemorisset/Google Drive/Pro/PyNeb_devel/pyneb/atomic_data_fits/',\n",
       " '/Users/christophemorisset/Google Drive/Pro/PyNeb_devel/pyneb/atomic_data/',\n",
       " '/Users/christophemorisset/Google Drive/Pro/PyNeb_devel/pyneb/sample_scripts']"
      ]
     },
     "execution_count": 23,
     "metadata": {},
     "output_type": "execute_result"
    }
   ],
   "source": [
    "# customize atomic data \n",
    "# First step: check which directories are searched for atomic data files\n",
    "pn.atomicData.getAllDataFilePaths()"
   ]
  },
  {
   "cell_type": "code",
   "execution_count": 24,
   "metadata": {
    "collapsed": false,
    "jupyter": {
     "outputs_hidden": false
    }
   },
   "outputs": [],
   "source": [
    "# Add your selected directory to the list\n",
    "pn.atomicData.addDataFilePath('/tmp')"
   ]
  },
  {
   "cell_type": "code",
   "execution_count": 25,
   "metadata": {
    "collapsed": false,
    "jupyter": {
     "outputs_hidden": false
    }
   },
   "outputs": [
    {
     "data": {
      "text/plain": [
       "['/Users/christophemorisset/Google Drive/Pro/PyNeb_devel/pyneb/atomic_data_fits/',\n",
       " '/Users/christophemorisset/Google Drive/Pro/PyNeb_devel/pyneb/atomic_data/',\n",
       " '/Users/christophemorisset/Google Drive/Pro/PyNeb_devel/pyneb/sample_scripts',\n",
       " '/tmp']"
      ]
     },
     "execution_count": 25,
     "metadata": {},
     "output_type": "execute_result"
    }
   ],
   "source": [
    "# Check if it's been added\n",
    "pn.atomicData.getAllDataFilePaths()"
   ]
  },
  {
   "cell_type": "code",
   "execution_count": 26,
   "metadata": {
    "collapsed": false,
    "jupyter": {
     "outputs_hidden": false
    }
   },
   "outputs": [],
   "source": [
    "# Remove it if you gave the wrong dir\n",
    "pn.atomicData.removeDataFilePath('/tmp')"
   ]
  },
  {
   "cell_type": "code",
   "execution_count": 27,
   "metadata": {
    "collapsed": false,
    "jupyter": {
     "outputs_hidden": false
    }
   },
   "outputs": [],
   "source": [
    "# Set 'o_iii_.fits' to be the OIII atom file\n",
    "pn.atomicData.setDataFile('o_iii_coll_Pal12-AK99.dat')"
   ]
  },
  {
   "cell_type": "code",
   "execution_count": 28,
   "metadata": {
    "collapsed": false,
    "jupyter": {
     "outputs_hidden": false
    }
   },
   "outputs": [],
   "source": [
    "# define an atom with the new data\n",
    "O2test = pn.Atom(\"O\", 2)"
   ]
  },
  {
   "cell_type": "code",
   "execution_count": 29,
   "metadata": {
    "collapsed": false,
    "jupyter": {
     "outputs_hidden": false
    }
   },
   "outputs": [
    {
     "name": "stdout",
     "output_type": "stream",
     "text": [
      "warng _ManageAtomicData: rec data not available for Al2\n",
      "warng _ManageAtomicData: rec data not available for Ar2\n",
      "warng _ManageAtomicData: rec data not available for Ar3\n",
      "warng _ManageAtomicData: rec data not available for Ar4\n",
      "warng _ManageAtomicData: rec data not available for Ar5\n",
      "warng _ManageAtomicData: rec data not available for Ba2\n",
      "warng _ManageAtomicData: rec data not available for Ba4\n",
      "ERROR None: No data for this case B\n",
      "ERROR None: No data for this case B\n",
      "warng _ManageAtomicData: rec data not available for Ca5\n",
      "warng _ManageAtomicData: rec data not available for Cl2\n",
      "warng _ManageAtomicData: rec data not available for Cl3\n",
      "warng _ManageAtomicData: rec data not available for Cl4\n",
      "warng _ManageAtomicData: rec data not available for Fe3\n",
      "warng _ManageAtomicData: rec data not available for K4\n",
      "warng _ManageAtomicData: rec data not available for K5\n",
      "warng _ManageAtomicData: rec data not available for Mg5\n",
      "warng _ManageAtomicData: rec data not available for Mg7\n",
      "ERROR None: No data for this case B\n",
      "warng _ManageAtomicData: rec data not available for Na4\n",
      "warng _ManageAtomicData: rec data not available for Na6\n",
      "warng _ManageAtomicData: rec data not available for Ne3\n",
      "warng _ManageAtomicData: rec data not available for Ne4\n",
      "warng _ManageAtomicData: rec data not available for Ne5\n",
      "warng _ManageAtomicData: rec data not available for Ne6\n",
      "warng _ManageAtomicData: rec data not available for Ni3\n",
      "ERROR None: No data for this case B\n",
      "warng _ManageAtomicData: rec data not available for S2\n",
      "warng _ManageAtomicData: rec data not available for S3\n",
      "warng _ManageAtomicData: rec data not available for S4\n",
      "warng _ManageAtomicData: rec data not available for Si2\n",
      "warng _ManageAtomicData: rec data not available for Si3\n",
      "warng _ManageAtomicData: rec data not available for Xe3\n",
      "warng _ManageAtomicData: rec data not available for Xe4\n",
      "warng _ManageAtomicData: rec data not available for Xe6\n",
      "warng _ManageAtomicData: rec data not available for Kr3\n",
      "warng _ManageAtomicData: rec data not available for Kr4\n",
      "warng _ManageAtomicData: rec data not available for Kr5\n",
      "warng _ManageAtomicData: rec data not available for Se3\n",
      "warng _ManageAtomicData: rec data not available for Se4\n",
      "warng _ManageAtomicData: rec data not available for Br3\n",
      "warng _ManageAtomicData: rec data not available for Br4\n",
      "warng _ManageAtomicData: rec data not available for Rb4\n",
      "warng _ManageAtomicData: rec data not available for Rb5\n",
      "warng _ManageAtomicData: rec data not available for Rb6\n",
      "warng _ManageAtomicData: rec data not available for Fe4\n",
      "warng _ManageAtomicData: rec data not available for Fe5\n",
      "warng _ManageAtomicData: rec data not available for Fe6\n",
      "warng _ManageAtomicData: rec data not available for Fe7\n",
      "warng _ManageAtomicData: rec data not available for Fe2\n",
      "warng _ManageAtomicData: rec data not available for P2\n",
      "warng _ManageAtomicData: rec data not available for Te3\n",
      "warng _ManageAtomicData: rec data not available for Kr6\n",
      "warng _ManageAtomicData: rec data not available for Br5\n"
     ]
    }
   ],
   "source": [
    "# define all atoms at once and put them in a dictionary\n",
    "# (all of them defined with the latest dataset selected)\n",
    "atoms = pn.getAtomDict() #this generates a lot of warnings as not all element-spectrum combination exist"
   ]
  },
  {
   "cell_type": "code",
   "execution_count": 30,
   "metadata": {
    "collapsed": false,
    "jupyter": {
     "outputs_hidden": false
    }
   },
   "outputs": [
    {
     "data": {
      "text/plain": [
       "{'Al2': Atom Al2 from al_ii_atom_JSP86-HK87-VVF96-KS86.dat and al_ii_coll_KHAF92-TBK85-TBK84.dat,\n",
       " 'Ar2': Atom Ar2 from ar_ii_atom_Bal06.dat and ar_ii_coll_PB95.dat,\n",
       " 'Ar3': Atom Ar3 from ar_iii_atom_MB09.dat and ar_iii_coll_MB09.dat,\n",
       " 'Ar4': Atom Ar4 from ar_iv_atom_RGJ19.dat and ar_iv_coll_RB97.dat,\n",
       " 'Ar5': Atom Ar5 from ar_v_atom_LL93-MZ82-KS86.dat and ar_v_coll_GMZ95.dat,\n",
       " 'Ba2': Atom Ba2 from ba_ii_atom_C04.dat and ba_ii_coll_SB98.dat,\n",
       " 'Ba4': Atom Ba4 from ba_iv_atom_BHQZ95.dat and ba_iv_coll_SB98.dat,\n",
       " 'C1': Atom C1 from c_i_atom_FFS85.dat and c_i_coll_JBK87-PA76.dat,\n",
       " 'C1r': Atom C1 from c_i_rec_P91.func,\n",
       " 'C2': Atom C2 from c_ii_atom_GMZ98.dat and c_ii_coll_BP92.dat,\n",
       " 'C2r': Atom C2 from c_ii_rec_D00.func,\n",
       " 'C3': Atom C3 from c_iii_atom_G83-NS78-WFD96.dat and c_iii_coll_Bal85.dat,\n",
       " 'C4': Atom C4 from c_iv_atom_WFD96.dat and c_iv_coll_AK04.dat,\n",
       " 'Ca5': Atom Ca5 from ca_v_atom_M83-KS86.dat and ca_v_coll_GMZ95.dat,\n",
       " 'Cl2': Atom Cl2 from cl_ii_atom_MZ83.dat and cl_ii_coll_T04.dat,\n",
       " 'Cl3': Atom Cl3 from cl_iii_atom_RGJ19.dat and cl_iii_coll_BZ89.dat,\n",
       " 'Cl4': Atom Cl4 from cl_iv_atom_KS86-MZ82-EM84.dat and cl_iv_coll_GMZ95.dat,\n",
       " 'Fe3': Atom Fe3 from fe_iii_atom_Q96_J00.dat and fe_iii_coll_Z96.dat,\n",
       " 'K4': Atom K4 from k_iv_atom_M83-KS86.dat and k_iv_coll_GMZ95.dat,\n",
       " 'K5': Atom K5 from k_v_atom_M83-KS86.dat and k_v_coll_BZL88.dat,\n",
       " 'Mg5': Atom Mg5 from mg_v_atom_GMZ97.dat and mg_v_coll_BZ94.dat,\n",
       " 'Mg7': Atom Mg7 from mg_vii_atom_GMZ97.dat and mg_vii_coll_LB94-U.dat,\n",
       " 'N1': Atom N1 from n_i_atom_KS86-WFD96.dat and n_i_coll_PA76-DMR76.dat,\n",
       " 'N1r': Atom N1 from n_i_rec_P91.func,\n",
       " 'N2': Atom N2 from n_ii_atom_FFT04.dat and n_ii_coll_T11.dat,\n",
       " 'N2r': Atom N2 from n_ii_rec_FSL11.func,\n",
       " 'N3': Atom N3 from n_iii_atom_GMZ98.dat and n_iii_coll_BP92.dat,\n",
       " 'N3r': Atom N3 from n_iii_rec_P91.func,\n",
       " 'N4': Atom N4 from n_iv_atom_WFD96.dat and n_iv_coll_RBHB94.dat,\n",
       " 'Na4': Atom Na4 from na_iv_atom_GMZ97.dat and na_iv_coll_BZ94.dat,\n",
       " 'Na6': Atom Na6 from na_vi_atom_GMZ97.dat and na_vi_coll_LB94.dat,\n",
       " 'Ne2': Atom Ne2 from ne_ii_atom_Bal06.dat and ne_ii_coll_GMB01.dat,\n",
       " 'Ne2r': Atom Ne2 from ne_ii_rec_KSDN98.func,\n",
       " 'Ne3': Atom Ne3 from ne_iii_atom_GMZ97.dat and ne_iii_coll_McLB00.dat,\n",
       " 'Ne4': Atom Ne4 from ne_iv_atom_GFF84.dat and ne_iv_coll_G81.dat,\n",
       " 'Ne5': Atom Ne5 from ne_v_atom_GMZ97-U-BD93.dat and ne_v_coll_DPNP13.dat,\n",
       " 'Ne6': Atom Ne6 from ne_vi_atom_GMZ98.dat and ne_vi_coll_ZGP94.dat,\n",
       " 'Ni3': Atom Ni3 from ni_iii_atom_B01.dat and ni_iii_coll_B01.dat,\n",
       " 'O1': Atom O1 from o_i_atom_WFD96.dat and o_i_coll_BK95.dat,\n",
       " 'O1r': Atom O1 from o_i_rec_P91.func,\n",
       " 'O2': Atom O2 from o_ii_atom_Z82-WFD96.dat and o_ii_coll_Kal09.dat,\n",
       " 'O2r': Atom O2 from o_ii_rec_SSB17-B-opt.hdf5,\n",
       " 'O3': Atom O3 from o_iii_atom_FFT04-SZ00.dat and o_iii_coll_Pal12-AK99.dat,\n",
       " 'O3r': Atom O3 from o_iii_rec_P91.func,\n",
       " 'O4': Atom O4 from o_iv_atom_GMZ98.dat and o_iv_coll_BP92.dat,\n",
       " 'O4r': Atom O4 from o_iv_rec_P91.func,\n",
       " 'O5': Atom O5 from o_v_atom_H80-NS79.dat and o_v_coll_BBDK85.dat,\n",
       " 'S2': Atom S2 from s_ii_atom_RGJ19.dat and s_ii_coll_TZ10.dat,\n",
       " 'S3': Atom S3 from s_iii_atom_FFTI06.dat and s_iii_coll_TG99.dat,\n",
       " 'S4': Atom S4 from s_iv_atom_JKD86-DHKD82.dat and s_iv_coll_DHKD82.dat,\n",
       " 'Si2': Atom Si2 from si_ii_atom_BL93-CSB93-N77.dat and si_ii_coll_DK91.dat,\n",
       " 'Si3': Atom Si3 from si_iii_atom_M83-OKH88-FW90-KS86.dat and si_iii_coll_DK94.dat,\n",
       " 'Xe3': Atom Xe3 from xe_iii_atom_BHQZ95.dat and xe_iii_coll_SB98.dat,\n",
       " 'Xe4': Atom Xe4 from xe_iv_atom_BHQZ95.dat and xe_iv_coll_SB98.dat,\n",
       " 'Xe6': Atom Xe6 from xe_vi_atom_BHQZ95.dat and xe_vi_coll_SB98.dat,\n",
       " 'Kr3': Atom Kr3 from kr_iii_atom_BH86.dat and kr_iii_coll_S97.dat,\n",
       " 'Kr4': Atom Kr4 from kr_iv_atom_BH86.dat and kr_iv_coll_S97.dat,\n",
       " 'Kr5': Atom Kr5 from kr_v_atom_BH86.dat and kr_v_coll_S97.dat,\n",
       " 'Se3': Atom Se3 from se_iii_atom_S17.dat and se_iii_coll_S17.dat,\n",
       " 'Se4': Atom Se4 from se_iv_atom_B05.dat and se_iv_coll_B05.dat,\n",
       " 'Br3': Atom Br3 from br_iii_atom_BH86.dat and br_iii_coll_S97.dat,\n",
       " 'Br4': Atom Br4 from br_iv_atom_BH86.dat and br_iv_coll_S97.dat,\n",
       " 'Rb4': Atom Rb4 from rb_iv_atom_S16.dat and rb_iv_coll_S16.dat,\n",
       " 'Rb5': Atom Rb5 from rb_v_atom_BH86.dat and rb_v_coll_S97.dat,\n",
       " 'Rb6': Atom Rb6 from rb_vi_atom_BH86.dat and rb_vi_coll_S97.dat,\n",
       " 'Fe4': Atom Fe4 from fe_iv_atom_FFRR08.dat and fe_iv_coll_ZP97.dat,\n",
       " 'Fe5': Atom Fe5 from fe_v_atom_Nal00.dat and fe_v_coll_BGMcL07.dat,\n",
       " 'Fe6': Atom Fe6 from fe_vi_atom_CP00.dat and fe_vi_coll_CP99.dat,\n",
       " 'Fe7': Atom Fe7 from fe_vii_atom_WB08.dat and fe_vii_coll_WB08.dat,\n",
       " '3He2': Atom 3He2 from 3he_ii_atom_cloudy.dat and 3he_ii_coll_cloudy.dat,\n",
       " 'Fe2': Atom Fe2 from fe_ii_atom_B15.dat and fe_ii_coll_B15.dat,\n",
       " 'P2': Atom P2 from p_ii_atom_MZ82.dat and p_ii_coll_T04.dat,\n",
       " 'Te3': Atom Te3 from te_iii_atom_M18.dat and te_iii_coll_M18.dat,\n",
       " 'Kr6': Atom Kr6 from kr_vi_atom_S17.dat and kr_vi_coll_S17.dat}"
      ]
     },
     "execution_count": 30,
     "metadata": {},
     "output_type": "execute_result"
    }
   ],
   "source": [
    "# see what atoms have been built\n",
    "atoms"
   ]
  },
  {
   "cell_type": "code",
   "execution_count": 31,
   "metadata": {
    "collapsed": false,
    "jupyter": {
     "outputs_hidden": false
    }
   },
   "outputs": [],
   "source": [
    "# build only some atoms                       \n",
    "atoms = pn.getAtomDict(atom_list=['O1', 'O2', 'O3', 'N2', 'N3'])"
   ]
  },
  {
   "cell_type": "code",
   "execution_count": 32,
   "metadata": {
    "collapsed": false,
    "jupyter": {
     "outputs_hidden": false
    }
   },
   "outputs": [
    {
     "data": {
      "text/plain": [
       "'N'"
      ]
     },
     "execution_count": 32,
     "metadata": {},
     "output_type": "execute_result"
    }
   ],
   "source": [
    "# explore some specific atom in the atoms collection\n",
    "atoms['N2'].elem"
   ]
  },
  {
   "cell_type": "code",
   "execution_count": 33,
   "metadata": {
    "collapsed": false,
    "jupyter": {
     "outputs_hidden": false
    }
   },
   "outputs": [],
   "source": [
    "# if you want to be able to access them directly rather than through a dictionary:\n",
    "for key in atoms.keys():\n",
    "    vars()[key]=atoms[key]"
   ]
  },
  {
   "cell_type": "code",
   "execution_count": 34,
   "metadata": {
    "collapsed": false,
    "jupyter": {
     "outputs_hidden": false
    }
   },
   "outputs": [
    {
     "data": {
      "text/plain": [
       "'O'"
      ]
     },
     "execution_count": 34,
     "metadata": {},
     "output_type": "execute_result"
    }
   ],
   "source": [
    "# for example\n",
    "O2.elem"
   ]
  },
  {
   "cell_type": "code",
   "execution_count": 35,
   "metadata": {
    "collapsed": false,
    "jupyter": {
     "outputs_hidden": false
    }
   },
   "outputs": [
    {
     "data": {
      "text/plain": [
       "['ANN_init_kwargs',\n",
       " 'ANN_inst_kwargs',\n",
       " 'ANN_n_temden',\n",
       " 'AtomData',\n",
       " 'AtomHeader',\n",
       " 'CollData',\n",
       " 'EnergyNLevels',\n",
       " 'IP',\n",
       " 'IP_up',\n",
       " 'NIST',\n",
       " 'NLevels',\n",
       " 'Z',\n",
       " '_A',\n",
       " '_Energy',\n",
       " '_StatWeight',\n",
       " '_Transition',\n",
       " '__class__',\n",
       " '__delattr__',\n",
       " '__dict__',\n",
       " '__dir__',\n",
       " '__doc__',\n",
       " '__eq__',\n",
       " '__format__',\n",
       " '__ge__',\n",
       " '__getattribute__',\n",
       " '__gt__',\n",
       " '__hash__',\n",
       " '__init__',\n",
       " '__init_subclass__',\n",
       " '__le__',\n",
       " '__lt__',\n",
       " '__module__',\n",
       " '__ne__',\n",
       " '__new__',\n",
       " '__reduce__',\n",
       " '__reduce_ex__',\n",
       " '__repr__',\n",
       " '__setattr__',\n",
       " '__sizeof__',\n",
       " '__str__',\n",
       " '__subclasshook__',\n",
       " '__weakref__',\n",
       " '_getTemDen_1',\n",
       " '_getTemDen_ANN',\n",
       " '_getTemDen_MP',\n",
       " '_test_lev',\n",
       " 'atom',\n",
       " 'atomFile',\n",
       " 'atomFileType',\n",
       " 'atomFitsFile',\n",
       " 'atomFitsPath',\n",
       " 'atomNLevels',\n",
       " 'atomPath',\n",
       " 'calling',\n",
       " 'collFile',\n",
       " 'collFileType',\n",
       " 'collFitsFile',\n",
       " 'collFitsPath',\n",
       " 'collNLevels',\n",
       " 'collPath',\n",
       " 'elem',\n",
       " 'energy_Ryd',\n",
       " 'energy_eV',\n",
       " 'getA',\n",
       " 'getCollRates',\n",
       " 'getCritDensity',\n",
       " 'getDensityRange',\n",
       " 'getEmissivity',\n",
       " 'getEnergy',\n",
       " 'getHighDensRatio',\n",
       " 'getIonAbundance',\n",
       " 'getLowDensRatio',\n",
       " 'getOmega',\n",
       " 'getOmegaArray',\n",
       " 'getPopulations',\n",
       " 'getSources',\n",
       " 'getStatWeight',\n",
       " 'getTemArray',\n",
       " 'getTemDen',\n",
       " 'getTransition',\n",
       " 'gs',\n",
       " 'is_valid',\n",
       " 'lineList',\n",
       " 'log_',\n",
       " 'name',\n",
       " 'plotEmiss',\n",
       " 'plotGrotrian',\n",
       " 'printIonic',\n",
       " 'printSources',\n",
       " 'printTemDen',\n",
       " 'printTransition',\n",
       " 'source',\n",
       " 'spec',\n",
       " 'tem_units',\n",
       " 'type',\n",
       " 'wave_Ang']"
      ]
     },
     "execution_count": 35,
     "metadata": {},
     "output_type": "execute_result"
    }
   ],
   "source": [
    "# list all atom features\n",
    "dir(O2)"
   ]
  },
  {
   "cell_type": "code",
   "execution_count": 36,
   "metadata": {
    "collapsed": false,
    "jupyter": {
     "outputs_hidden": false
    }
   },
   "outputs": [
    {
     "data": {
      "text/plain": [
       "array([9.74468368e-01, 2.00608882e-02, 5.46963327e-03, 6.87357279e-07,\n",
       "       4.22917029e-07])"
      ]
     },
     "execution_count": 36,
     "metadata": {},
     "output_type": "execute_result"
    }
   ],
   "source": [
    "#######################################################################\n",
    "# MAKING CALCULATIONS\n",
    "\n",
    "# set temperature and density\n",
    "tem = 15000.\n",
    "den = 1000.\n",
    "\n",
    "# compute populations\n",
    "O2.getPopulations(tem, den)"
   ]
  },
  {
   "cell_type": "code",
   "execution_count": 37,
   "metadata": {
    "collapsed": false,
    "jupyter": {
     "outputs_hidden": false
    }
   },
   "outputs": [
    {
     "data": {
      "text/plain": [
       "array(2.61023869e-27)"
      ]
     },
     "execution_count": 37,
     "metadata": {},
     "output_type": "execute_result"
    }
   ],
   "source": [
    "# compute emissivity of transition (lev_i, lev_j)\n",
    "O2.getEmissivity(tem, den, 3, 2)"
   ]
  },
  {
   "cell_type": "code",
   "execution_count": 38,
   "metadata": {
    "collapsed": false,
    "jupyter": {
     "outputs_hidden": false
    }
   },
   "outputs": [
    {
     "name": "stdout",
     "output_type": "stream",
     "text": [
      "[0.834      0.84406867 0.85580808]\n",
      "[[[0.00000000e+00 0.00000000e+00 0.00000000e+00]\n",
      "  [3.80021542e-10 1.87127422e-09 2.94646469e-09]\n",
      "  [2.51710293e-10 1.24203112e-09 1.95669201e-09]\n",
      "  [1.63490224e-11 2.19985852e-10 4.89760515e-10]\n",
      "  [8.42755140e-12 1.12884048e-10 2.51995452e-10]]\n",
      "\n",
      " [[1.19944941e-08 8.58378169e-09 7.10610532e-09]\n",
      "  [0.00000000e+00 0.00000000e+00 0.00000000e+00]\n",
      "  [1.72516467e-08 1.19734339e-08 9.89457622e-09]\n",
      "  [1.71535930e-09 3.54215582e-09 4.29556164e-09]\n",
      "  [6.83126125e-10 1.41281364e-09 1.70610924e-09]]\n",
      "\n",
      " [[1.19513484e-08 8.55835787e-09 7.08534686e-09]\n",
      "  [2.59521158e-08 1.79860360e-08 1.48561215e-08]\n",
      "  [0.00000000e+00 0.00000000e+00 0.00000000e+00]\n",
      "  [1.43123107e-09 2.95216539e-09 3.56459531e-09]\n",
      "  [1.00339378e-09 2.05940718e-09 2.49676583e-09]]\n",
      "\n",
      " [[5.52264475e-09 4.04317380e-09 3.41089912e-09]\n",
      "  [1.83584792e-08 1.41923428e-08 1.24043685e-08]\n",
      "  [1.01823763e-08 7.87427137e-09 6.85577717e-09]\n",
      "  [0.00000000e+00 0.00000000e+00 0.00000000e+00]\n",
      "  [6.14649675e-09 4.65381407e-09 4.06804055e-09]]\n",
      "\n",
      " [[5.69522740e-09 4.15004115e-09 3.51034056e-09]\n",
      "  [1.46263795e-08 1.13230514e-08 9.85446349e-09]\n",
      "  [1.42812142e-08 1.09876315e-08 9.60496350e-09]\n",
      "  [1.22965137e-08 9.30896070e-09 8.13685764e-09]\n",
      "  [0.00000000e+00 0.00000000e+00 0.00000000e+00]]]\n",
      "[[9.91815755e-01 9.56504794e-01 9.29330631e-01]\n",
      " [6.35855134e-03 3.43940081e-02 5.63143917e-02]\n",
      " [1.82548920e-03 9.09873002e-03 1.43498309e-02]\n",
      " [1.26622575e-07 1.52925514e-06 3.18625844e-06]\n",
      " [7.78311901e-08 9.38821536e-07 1.96060918e-06]]\n"
     ]
    }
   ],
   "source": [
    "# also works if tem is an array\n",
    "tem = np.array([10000, 20000, 30000])\n",
    "print(O2.getOmega(tem, 2, 1))\n",
    "print(O2.getCollRates(tem))\n",
    "print(O2.getPopulations(tem, den))"
   ]
  },
  {
   "cell_type": "code",
   "execution_count": 39,
   "metadata": {
    "collapsed": false,
    "jupyter": {
     "outputs_hidden": false
    }
   },
   "outputs": [
    {
     "name": "stdout",
     "output_type": "stream",
     "text": [
      "[[[9.98878029e-01 9.97858872e-01 9.96922776e-01]\n",
      "  [9.98019410e-01 9.96212446e-01 9.94547508e-01]\n",
      "  [9.97544938e-01 9.95301601e-01 9.93232313e-01]]\n",
      "\n",
      " [[9.57753866e-04 1.80282355e-03 2.55833017e-03]\n",
      "  [1.69187931e-03 3.19417248e-03 4.54370632e-03]\n",
      "  [2.09774000e-03 3.96480758e-03 5.64500125e-03]]\n",
      "\n",
      " [[1.64204847e-04 3.38277103e-04 5.18849618e-04]\n",
      "  [2.88680113e-04 5.93315430e-04 9.08678934e-04]\n",
      "  [3.57279095e-04 7.33499218e-04 1.12253769e-03]]\n",
      "\n",
      " [[7.75482765e-09 1.69421721e-08 2.73793081e-08]\n",
      "  [1.86812148e-08 4.06183659e-08 6.54110546e-08]\n",
      "  [2.60683216e-08 5.65585724e-08 9.09340968e-08]]\n",
      "\n",
      " [[4.94747738e-09 1.06910451e-08 1.71439551e-08]\n",
      "  [1.19270981e-08 2.56596463e-08 4.10074468e-08]\n",
      "  [1.66484824e-08 3.57461699e-08 5.70380805e-08]]]\n",
      "[[9.98878029e-01 9.96212446e-01 9.93232313e-01]\n",
      " [9.57753866e-04 3.19417248e-03 5.64500125e-03]\n",
      " [1.64204847e-04 5.93315430e-04 1.12253769e-03]\n",
      " [7.75482765e-09 4.06183659e-08 9.09340968e-08]\n",
      " [4.94747738e-09 2.56596463e-08 5.70380805e-08]]\n"
     ]
    }
   ],
   "source": [
    "# tem and den can be arrays as well as single numbers\n",
    "tem = np.array([10000, 12000, 13000]) \n",
    "den = np.array([100, 200, 300])\n",
    "print(O2.getPopulations(tem, den)) # returns the n_tem x n_den x n_levels array of populations\n",
    "print(O2.getPopulations(tem, den, product=False)) #  element-by-element multiplication of tem and den (no scalar product: returns [pop(tem_1, den_1), pop(tem_2, den_2), ... pop(tem_n, den_n)] "
   ]
  },
  {
   "cell_type": "code",
   "execution_count": 40,
   "metadata": {
    "collapsed": false,
    "jupyter": {
     "outputs_hidden": false
    }
   },
   "outputs": [
    {
     "name": "stdout",
     "output_type": "stream",
     "text": [
      "Input wave: 6584.0\n",
      "Closest wave found: 6583.5\n",
      "Relative error: 8E-05 \n",
      "Transition: 4 -> 3\n"
     ]
    }
   ],
   "source": [
    "# find transition corresponding to given wavelength\n",
    "N2.printTransition(6584)"
   ]
  },
  {
   "cell_type": "code",
   "execution_count": 41,
   "metadata": {
    "collapsed": false,
    "jupyter": {
     "outputs_hidden": false
    }
   },
   "outputs": [
    {
     "data": {
      "text/plain": [
       "8573.093534627478"
      ]
     },
     "execution_count": 41,
     "metadata": {},
     "output_type": "execute_result"
    }
   ],
   "source": [
    "# temperature determination from an intensity ratio\n",
    "N2.getTemDen(0.01, den=1000., wave1=5755, wave2=6584)"
   ]
  },
  {
   "cell_type": "code",
   "execution_count": 42,
   "metadata": {
    "collapsed": false,
    "jupyter": {
     "outputs_hidden": false
    }
   },
   "outputs": [
    {
     "data": {
      "text/plain": [
       "8573.093534627478"
      ]
     },
     "execution_count": 42,
     "metadata": {},
     "output_type": "execute_result"
    }
   ],
   "source": [
    "# same as above, by specifying the levels involved\n",
    "N2.getTemDen(0.01, den=1000., lev_i1=5, lev_j1=4, lev_i2=4, lev_j2=3)"
   ]
  },
  {
   "cell_type": "code",
   "execution_count": 43,
   "metadata": {
    "collapsed": false,
    "jupyter": {
     "outputs_hidden": false
    }
   },
   "outputs": [
    {
     "data": {
      "text/plain": [
       "8573.093534627478"
      ]
     },
     "execution_count": 43,
     "metadata": {},
     "output_type": "execute_result"
    }
   ],
   "source": [
    "# same as above, by specifying the levels involved\n",
    "N2.getTemDen(0.01, den=1000., to_eval = 'L(5755) / L(6584)')"
   ]
  },
  {
   "cell_type": "code",
   "execution_count": 48,
   "metadata": {
    "collapsed": false,
    "jupyter": {
     "outputs_hidden": false
    }
   },
   "outputs": [
    {
     "data": {
      "text/plain": [
       "1.957562060137208e-05"
      ]
     },
     "execution_count": 48,
     "metadata": {},
     "output_type": "execute_result"
    }
   ],
   "source": [
    "# ionic abundance (intensity, temperature, density, transition)\n",
    "O2.getIonAbundance(100, 1.5e4, 100., wave=3727)"
   ]
  },
  {
   "cell_type": "code",
   "execution_count": 49,
   "metadata": {
    "collapsed": false,
    "jupyter": {
     "outputs_hidden": false
    }
   },
   "outputs": [
    {
     "name": "stdout",
     "output_type": "stream",
     "text": [
      "elem = O\n",
      "spec = 2\n",
      "\n",
      "warng Atom O2: Cannot print populations as tem or den is missing\n",
      "warng Atom O2: Cannot print critical densities as tem is missing\n",
      "   3728.81A \n",
      "    (2-->1) \n",
      "\n",
      "\n",
      "   3726.03A     499.36m \n",
      "    (3-->1)     (3-->2) \n",
      "\n",
      "\n",
      "   2470.34A    7319.98A    7330.73A \n",
      "    (4-->1)     (4-->2)     (4-->3) \n",
      "\n",
      "\n",
      "   2470.22A    7318.92A    7329.66A    5023.75m \n",
      "    (5-->1)     (5-->2)     (5-->3)     (5-->4) \n",
      "\n",
      "\n"
     ]
    }
   ],
   "source": [
    "# printout as in old nebular\n",
    "O2.printIonic() # only prints transitions and corresponding wavelengths. Useful for a quick glance at the atom."
   ]
  },
  {
   "cell_type": "code",
   "execution_count": 50,
   "metadata": {
    "collapsed": false,
    "jupyter": {
     "outputs_hidden": false
    }
   },
   "outputs": [
    {
     "name": "stdout",
     "output_type": "stream",
     "text": [
      "elem = O\n",
      "spec = 2\n",
      "temperature = 10000.0 K\n",
      "density =  100.0 cm-3\n",
      "\n",
      "Level   Populations  Critical densities\n",
      "Level 1:  9.989E-01  0.000E+00\n",
      "Level 2:  9.578E-04  1.207E+03\n",
      "Level 3:  1.642E-04  4.093E+03\n",
      "Level 4:  7.755E-09  5.839E+06\n",
      "Level 5:  4.947E-09  3.981E+06\n",
      "\n",
      "   3728.81A \n",
      "    (2-->1) \n",
      "  1.948E-21 \n",
      "\n",
      "   3726.03A     499.36m \n",
      "    (3-->1)     (3-->2) \n",
      "  1.444E-21   7.836E-28 \n",
      "\n",
      "   2470.34A    7319.98A    7330.73A \n",
      "    (4-->1)     (4-->2)     (4-->3) \n",
      "  3.516E-23   2.462E-23   1.290E-23 \n",
      "\n",
      "   2470.22A    7318.92A    7329.66A    5023.75m \n",
      "    (5-->1)     (5-->2)     (5-->3)     (5-->4) \n",
      "  9.227E-24   8.256E-24   1.367E-23   4.068E-37 \n",
      "\n",
      "# H-beta volume emissivity:\n",
      "1.235E-25 N(H+) * N(e-)  (erg/s)\n"
     ]
    }
   ],
   "source": [
    "O2.printIonic(tem=10000, den=100) # also prints line emissivities"
   ]
  },
  {
   "cell_type": "code",
   "execution_count": 51,
   "metadata": {
    "collapsed": false,
    "jupyter": {
     "outputs_hidden": false
    }
   },
   "outputs": [
    {
     "name": "stdout",
     "output_type": "stream",
     "text": [
      "elem = O\n",
      "spec = 2\n",
      "temperature = 10000.0 K\n",
      "density =  100.0 cm-3\n",
      "\n",
      "Level   Populations  Critical densities\n",
      "Level 1:  9.989E-01  0.000E+00\n",
      "Level 2:  9.578E-04  1.207E+03\n",
      "Level 3:  1.642E-04  4.093E+03\n",
      "Level 4:  7.755E-09  5.839E+06\n",
      "Level 5:  4.947E-09  3.981E+06\n",
      "\n",
      "3.820E-05   \n",
      "   3728.81A \n",
      "    (2-->1) \n",
      "  1.948E-21 \n",
      "\n",
      "1.650E-04   1.200E-07   \n",
      "   3726.03A     499.36m \n",
      "    (3-->1)     (3-->2) \n",
      "  1.444E-21   7.836E-28 \n",
      "\n",
      "5.640E-02   1.170E-01   6.140E-02   \n",
      "   2470.34A    7319.98A    7330.73A \n",
      "    (4-->1)     (4-->2)     (4-->3) \n",
      "  3.516E-23   2.462E-23   1.290E-23 \n",
      "\n",
      "2.320E-02   6.150E-02   1.020E-01   2.080E-11   \n",
      "   2470.22A    7318.92A    7329.66A    5023.75m \n",
      "    (5-->1)     (5-->2)     (5-->3)     (5-->4) \n",
      "  9.227E-24   8.256E-24   1.367E-23   4.068E-37 \n",
      "\n",
      "# H-beta volume emissivity:\n",
      "1.235E-25 N(H+) * N(e-)  (erg/s)\n"
     ]
    }
   ],
   "source": [
    "O2.printIonic(tem=10000, den=100, printA=True, printPop=True, printCrit=True) # also prints populations and critical densities"
   ]
  },
  {
   "cell_type": "code",
   "execution_count": 52,
   "metadata": {
    "collapsed": false,
    "jupyter": {
     "outputs_hidden": false
    }
   },
   "outputs": [
    {
     "data": {
      "text/plain": [
       "array(1.235e-25)"
      ]
     },
     "execution_count": 52,
     "metadata": {},
     "output_type": "execute_result"
    }
   ],
   "source": [
    "# Compute Hb emissivity at T=10000K\n",
    "H1 = pn.RecAtom('H', 1)\n",
    "H1.getEmissivity(10000, 1e2, 4, 2)"
   ]
  },
  {
   "cell_type": "code",
   "execution_count": 53,
   "metadata": {
    "collapsed": false,
    "jupyter": {
     "outputs_hidden": false
    }
   },
   "outputs": [],
   "source": [
    "# simultaneously compute temperature and density from pairs of line ratios\n",
    "# First of all, a Diagnostics object must be created and initialized with the relevant diagnostics.\n",
    "diags = pn.Diagnostics()   # this creates the object\n",
    "diags.getAllDiags()  # see what Diagnostics exist\n",
    "tem, den = diags.getCrossTemDen('[NII] 5755/6548', '[SII] 6731/6716', 0.050, 1.0)"
   ]
  },
  {
   "cell_type": "code",
   "execution_count": 54,
   "metadata": {
    "collapsed": false,
    "jupyter": {
     "outputs_hidden": false
    }
   },
   "outputs": [
    {
     "name": "stdout",
     "output_type": "stream",
     "text": [
      "10490.225428751679 724.3990279425481\n"
     ]
    }
   ],
   "source": [
    "#TO BE CONTINUED FROM HERE\n",
    "print(tem, den)"
   ]
  }
 ],
 "metadata": {
  "kernelspec": {
   "display_name": "Python 3",
   "language": "python",
   "name": "python3"
  },
  "language_info": {
   "codemirror_mode": {
    "name": "ipython",
    "version": 3
   },
   "file_extension": ".py",
   "mimetype": "text/x-python",
   "name": "python",
   "nbconvert_exporter": "python",
   "pygments_lexer": "ipython3",
   "version": "3.8.5"
  }
 },
 "nbformat": 4,
 "nbformat_minor": 4
}
